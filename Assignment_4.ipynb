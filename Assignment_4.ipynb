{
 "cells": [
  {
   "cell_type": "markdown",
   "id": "723b0654",
   "metadata": {},
   "source": [
    "# Assignment_4: Python Basics"
   ]
  },
  {
   "cell_type": "markdown",
   "id": "c3045881",
   "metadata": {},
   "source": [
    "1. What exactly is [ ]?\n",
    "2. In a list of values stored in a variable called spam, how would you assign the value 'hello' as the third value? (Assume [2, 4, 6, 8, 10] are in spam.)\n",
    "* Let's pretend the spam includes the list ['a', 'b', 'c', 'd'] for the next three queries.\n",
    "    3. What is the value of spam[int(int('3' * 2) / 11)]?\n",
    "    4. What is the value of spam[-1]?\n",
    "    5. What is the value of spam[:2]?\n",
    "    \n",
    "* Let's pretend bacon has the list [3.14, 'cat,' 11, 'cat,' True] for the next three questions.\n",
    "    6. What is the value of bacon.index('cat')?\n",
    "    7. How does bacon.append(99) change the look of the list value in bacon?\n",
    "    8. How does bacon.remove('cat') change the look of the list in bacon?\n",
    "9. What are the list concatenation and list replication operators?\n",
    "10. What is difference between the list methods append() and insert()?\n",
    "11. What are the two methods for removing items from a list?\n",
    "12. Describe how list values and string values are identical.\n",
    "13. What's the difference between tuples and lists?\n",
    "14. How do you type a tuple value that only contains the integer 42?\n",
    "15. How do you get a list value's tuple form? How do you get a tuple value's list form?\n",
    "16. Variables that \"contain\" list values are not necessarily lists themselves. Instead, what do they contain?\n",
    "17. How do you distinguish between copy.copy() and copy.deepcopy()?\n",
    "\n"
   ]
  },
  {
   "cell_type": "markdown",
   "id": "8675e3ca",
   "metadata": {},
   "source": [
    "### 1. What exactly is [ ]?\n",
    "\n",
    "\n",
    "   * This is a empty list.\n",
    "   * List uses square brackets for identitifying a variable as list in Python programming language.\n",
    "      "
   ]
  },
  {
   "cell_type": "code",
   "execution_count": 37,
   "id": "ee994423",
   "metadata": {},
   "outputs": [
    {
     "data": {
      "text/plain": [
       "list"
      ]
     },
     "execution_count": 37,
     "metadata": {},
     "output_type": "execute_result"
    }
   ],
   "source": [
    "l = []\n",
    "type(l)"
   ]
  },
  {
   "cell_type": "code",
   "execution_count": 1,
   "id": "079a4394",
   "metadata": {},
   "outputs": [],
   "source": [
    "a = [1,\"one\",3+2j]     # declaring and assigning elements in the list variable"
   ]
  },
  {
   "cell_type": "code",
   "execution_count": 2,
   "id": "d948a4f9",
   "metadata": {},
   "outputs": [
    {
     "data": {
      "text/plain": [
       "[1, 'one', (3+2j)]"
      ]
     },
     "execution_count": 2,
     "metadata": {},
     "output_type": "execute_result"
    }
   ],
   "source": [
    "a                 # calling variable"
   ]
  },
  {
   "cell_type": "code",
   "execution_count": 3,
   "id": "97d4086c",
   "metadata": {},
   "outputs": [
    {
     "data": {
      "text/plain": [
       "list"
      ]
     },
     "execution_count": 3,
     "metadata": {},
     "output_type": "execute_result"
    }
   ],
   "source": [
    "type(a)                # python identify variable \"a\" as list"
   ]
  },
  {
   "cell_type": "markdown",
   "id": "75d5e72b",
   "metadata": {},
   "source": [
    "### 2. In a list of values stored in a variable called spam, how would you assign the value 'hello' as the third value? (Assume [2, 4, 6, 8, 10] are in spam.)"
   ]
  },
  {
   "cell_type": "code",
   "execution_count": 4,
   "id": "881aa3b1",
   "metadata": {},
   "outputs": [],
   "source": [
    "spam = [2, 4, 6, 8, 10]"
   ]
  },
  {
   "cell_type": "code",
   "execution_count": 5,
   "id": "e39da58a",
   "metadata": {},
   "outputs": [
    {
     "data": {
      "text/plain": [
       "[2, 4, 6, 8, 10]"
      ]
     },
     "execution_count": 5,
     "metadata": {},
     "output_type": "execute_result"
    }
   ],
   "source": [
    "spam"
   ]
  },
  {
   "cell_type": "code",
   "execution_count": 6,
   "id": "964d9eaf",
   "metadata": {},
   "outputs": [],
   "source": [
    "spam.insert(2,\"hello\")     # used \"insert()\" function with index = 2 i.e. the third value in the list and object \"hello\""
   ]
  },
  {
   "cell_type": "code",
   "execution_count": 7,
   "id": "f4543eae",
   "metadata": {},
   "outputs": [
    {
     "data": {
      "text/plain": [
       "[2, 4, 'hello', 6, 8, 10]"
      ]
     },
     "execution_count": 7,
     "metadata": {},
     "output_type": "execute_result"
    }
   ],
   "source": [
    "spam"
   ]
  },
  {
   "cell_type": "markdown",
   "id": "f4d4f302",
   "metadata": {},
   "source": [
    "### Let's pretend the spam includes the list ['a', 'b', 'c', 'd'] for the next three queries.\n",
    "### 3. What is the value of spam[int(int('3' * 2) / 11)]?"
   ]
  },
  {
   "cell_type": "code",
   "execution_count": 8,
   "id": "f0559417",
   "metadata": {},
   "outputs": [],
   "source": [
    "spam = ['a', 'b', 'c', 'd']"
   ]
  },
  {
   "cell_type": "code",
   "execution_count": 9,
   "id": "427b8fae",
   "metadata": {},
   "outputs": [
    {
     "data": {
      "text/plain": [
       "['a', 'b', 'c', 'd']"
      ]
     },
     "execution_count": 9,
     "metadata": {},
     "output_type": "execute_result"
    }
   ],
   "source": [
    "spam"
   ]
  },
  {
   "cell_type": "code",
   "execution_count": 10,
   "id": "89e10c88",
   "metadata": {},
   "outputs": [
    {
     "data": {
      "text/plain": [
       "'d'"
      ]
     },
     "execution_count": 10,
     "metadata": {},
     "output_type": "execute_result"
    }
   ],
   "source": [
    "spam[int(int('3' * 2) / 11)]"
   ]
  },
  {
   "cell_type": "code",
   "execution_count": 11,
   "id": "025ef64e",
   "metadata": {},
   "outputs": [
    {
     "data": {
      "text/plain": [
       "3"
      ]
     },
     "execution_count": 11,
     "metadata": {},
     "output_type": "execute_result"
    }
   ],
   "source": [
    "int(int('3' * 2) / 11)         "
   ]
  },
  {
   "cell_type": "markdown",
   "id": "bb49d824",
   "metadata": {},
   "source": [
    "* int(int('3' * 2) / 11)  returns 3.\n",
    "* spam[int(int('3' * 2) / 11)] will extract the element from spam list at index = 3 i.e. \"d\""
   ]
  },
  {
   "cell_type": "markdown",
   "id": "b565079b",
   "metadata": {},
   "source": [
    " ### 4. What is the value of spam[-1]?"
   ]
  },
  {
   "cell_type": "code",
   "execution_count": 12,
   "id": "2287485b",
   "metadata": {},
   "outputs": [
    {
     "data": {
      "text/plain": [
       "'d'"
      ]
     },
     "execution_count": 12,
     "metadata": {},
     "output_type": "execute_result"
    }
   ],
   "source": [
    "spam[-1]          # returns the element with -1 index value, in other words the last element of the list."
   ]
  },
  {
   "cell_type": "markdown",
   "id": "5e741dc4",
   "metadata": {},
   "source": [
    "### 5. What is the value of spam[:2]?"
   ]
  },
  {
   "cell_type": "code",
   "execution_count": 13,
   "id": "49a89a5b",
   "metadata": {},
   "outputs": [
    {
     "data": {
      "text/plain": [
       "['a', 'b']"
      ]
     },
     "execution_count": 13,
     "metadata": {},
     "output_type": "execute_result"
    }
   ],
   "source": [
    "spam[:2]         # returns the element of the list \"spam\" starting from 0 to till 2 excluding 2.  "
   ]
  },
  {
   "cell_type": "markdown",
   "id": "4611ad42",
   "metadata": {},
   "source": [
    "###  Let's pretend bacon has the list [3.14, 'cat', 11, 'cat', True] for the next three questions.\n",
    "### 6. What is the value of bacon.index('cat')?"
   ]
  },
  {
   "cell_type": "code",
   "execution_count": 14,
   "id": "2fb0f856",
   "metadata": {},
   "outputs": [],
   "source": [
    "bacon = [3.14, 'cat', 11, 'cat', True]"
   ]
  },
  {
   "cell_type": "code",
   "execution_count": 15,
   "id": "e42f5fe6",
   "metadata": {},
   "outputs": [
    {
     "data": {
      "text/plain": [
       "[3.14, 'cat', 11, 'cat', True]"
      ]
     },
     "execution_count": 15,
     "metadata": {},
     "output_type": "execute_result"
    }
   ],
   "source": [
    "bacon"
   ]
  },
  {
   "cell_type": "code",
   "execution_count": 16,
   "id": "1248f384",
   "metadata": {},
   "outputs": [
    {
     "data": {
      "text/plain": [
       "1"
      ]
     },
     "execution_count": 16,
     "metadata": {},
     "output_type": "execute_result"
    }
   ],
   "source": [
    "bacon.index('cat')     # it will return index of the first occurance of the \"cat\" "
   ]
  },
  {
   "cell_type": "markdown",
   "id": "925ac544",
   "metadata": {},
   "source": [
    "###  7. How does bacon.append(99) change the look of the list value in bacon?"
   ]
  },
  {
   "cell_type": "code",
   "execution_count": 17,
   "id": "75585a0c",
   "metadata": {},
   "outputs": [
    {
     "data": {
      "text/plain": [
       "[3.14, 'cat', 11, 'cat', True]"
      ]
     },
     "execution_count": 17,
     "metadata": {},
     "output_type": "execute_result"
    }
   ],
   "source": [
    "bacon"
   ]
  },
  {
   "cell_type": "code",
   "execution_count": 18,
   "id": "5d6a2628",
   "metadata": {},
   "outputs": [],
   "source": [
    "bacon.append(99)                #Append object to the end of the list."
   ]
  },
  {
   "cell_type": "code",
   "execution_count": 19,
   "id": "d23f3f01",
   "metadata": {},
   "outputs": [
    {
     "data": {
      "text/plain": [
       "[3.14, 'cat', 11, 'cat', True, 99]"
      ]
     },
     "execution_count": 19,
     "metadata": {},
     "output_type": "execute_result"
    }
   ],
   "source": [
    "bacon"
   ]
  },
  {
   "cell_type": "markdown",
   "id": "e393f944",
   "metadata": {},
   "source": [
    "### 8. How does bacon.remove('cat') change the look of the list in bacon?"
   ]
  },
  {
   "cell_type": "code",
   "execution_count": 20,
   "id": "fe11d36f",
   "metadata": {},
   "outputs": [
    {
     "data": {
      "text/plain": [
       "[3.14, 'cat', 11, 'cat', True, 99]"
      ]
     },
     "execution_count": 20,
     "metadata": {},
     "output_type": "execute_result"
    }
   ],
   "source": [
    "bacon"
   ]
  },
  {
   "cell_type": "code",
   "execution_count": 21,
   "id": "9c725a59",
   "metadata": {},
   "outputs": [],
   "source": [
    "bacon.remove('cat')            # Remove first occurrence of value."
   ]
  },
  {
   "cell_type": "code",
   "execution_count": 22,
   "id": "9260f608",
   "metadata": {},
   "outputs": [
    {
     "data": {
      "text/plain": [
       "[3.14, 11, 'cat', True, 99]"
      ]
     },
     "execution_count": 22,
     "metadata": {},
     "output_type": "execute_result"
    }
   ],
   "source": [
    "bacon"
   ]
  },
  {
   "cell_type": "markdown",
   "id": "af170647",
   "metadata": {},
   "source": [
    "### 9. What are the list concatenation and list replication operators?"
   ]
  },
  {
   "cell_type": "code",
   "execution_count": 23,
   "id": "7943e227",
   "metadata": {},
   "outputs": [],
   "source": [
    "FS = [\"Full\", \"Stack\"]\n",
    "DS = [\"Data\", \"Science\"]"
   ]
  },
  {
   "cell_type": "markdown",
   "id": "666cf219",
   "metadata": {},
   "source": [
    "List Concatenation Operator: The operator for list concatenation is \" + \"."
   ]
  },
  {
   "cell_type": "code",
   "execution_count": 24,
   "id": "b628f271",
   "metadata": {},
   "outputs": [
    {
     "data": {
      "text/plain": [
       "['Full', 'Stack', 'Data', 'Science']"
      ]
     },
     "execution_count": 24,
     "metadata": {},
     "output_type": "execute_result"
    }
   ],
   "source": [
    "FSDS = FS + DS \n",
    "FSDS"
   ]
  },
  {
   "cell_type": "markdown",
   "id": "3677c5ed",
   "metadata": {},
   "source": [
    "List Replication Operator: The operator for list replication is \" * \""
   ]
  },
  {
   "cell_type": "code",
   "execution_count": 25,
   "id": "316d7062",
   "metadata": {},
   "outputs": [
    {
     "data": {
      "text/plain": [
       "['Full', 'Stack', 'Full', 'Stack']"
      ]
     },
     "execution_count": 25,
     "metadata": {},
     "output_type": "execute_result"
    }
   ],
   "source": [
    "FSDS = FS * 2\n",
    "FSDS"
   ]
  },
  {
   "cell_type": "markdown",
   "id": "b84d443a",
   "metadata": {},
   "source": [
    "### 10. What is difference between the list methods append() and insert()?\n",
    "\n",
    "* **Signature:** FS.append(object, /)\n",
    "  - **Docstring:** Append object to the end of the list.\n",
    "  - **Type:**      builtin_function_or_method\n",
    "\n",
    "\n",
    "* **Signature:** FS.insert(index, object, /)\n",
    "  - **Docstring:** Insert object before index.\n",
    "  - **Type:**      builtin_function_or_method\n"
   ]
  },
  {
   "cell_type": "code",
   "execution_count": 26,
   "id": "c43f797a",
   "metadata": {},
   "outputs": [
    {
     "data": {
      "text/plain": [
       "['Full', 'Stack', ['Data', 'Science']]"
      ]
     },
     "execution_count": 26,
     "metadata": {},
     "output_type": "execute_result"
    }
   ],
   "source": [
    "FS = [\"Full\", \"Stack\"]\n",
    "DS = [\"Data\", \"Science\"]\n",
    "\n",
    "FS.append(DS)          # append at the end of the list\n",
    "FS"
   ]
  },
  {
   "cell_type": "code",
   "execution_count": 27,
   "id": "6bd6188d",
   "metadata": {},
   "outputs": [
    {
     "data": {
      "text/plain": [
       "[['Data', 'Science'], 'Full', 'Stack']"
      ]
     },
     "execution_count": 27,
     "metadata": {},
     "output_type": "execute_result"
    }
   ],
   "source": [
    "FS = [\"Full\", \"Stack\"]\n",
    "DS = [\"Data\", \"Science\"]\n",
    "\n",
    "FS.insert(0,DS)       # Insert object before index. index = 0 here  \n",
    "FS"
   ]
  },
  {
   "cell_type": "markdown",
   "id": "dbc22916",
   "metadata": {},
   "source": [
    "### 11. What are the two methods for removing items from a list?\n",
    "\n",
    "\n",
    "* **Signature:** list.pop(index=-1, /)\n",
    "  - **Docstring:** Remove and return item at index (default last). Raises IndexError if list is empty or index is out of range.\n",
    "  - **Type:**      builtin_function_or_method\n",
    "\n",
    "\n",
    "* **Signature:** list.remove(value, /)\n",
    "  - **Docstring:** Remove first occurrence of value. Raises ValueError if the value is not present.\n",
    "  - **Type:**      builtin_function_or_method\n"
   ]
  },
  {
   "cell_type": "code",
   "execution_count": 28,
   "id": "56d79393",
   "metadata": {},
   "outputs": [
    {
     "name": "stdout",
     "output_type": "stream",
     "text": [
      "The pop function removed the last element from the list which is 7\n",
      "The pop function removed the element at index 2 from the list which is 3\n",
      "Now the list is [1, 2, 4, 5, 6]\n"
     ]
    }
   ],
   "source": [
    "l = [1,2,3,4,5,6,7]    \n",
    "l\n",
    "\n",
    "a = l.pop()                  # remove through index and stored on another variable\n",
    "b = l.pop(2)\n",
    "print(\"The pop function removed the last element from the list which is {}\".format(a))\n",
    "print(\"The pop function removed the element at index 2 from the list which is {}\".format(b))\n",
    "print(\"Now the list is {}\".format(l))"
   ]
  },
  {
   "cell_type": "code",
   "execution_count": 29,
   "id": "4f5da4af",
   "metadata": {},
   "outputs": [
    {
     "name": "stdout",
     "output_type": "stream",
     "text": [
      "The remove function removed the first occurrence of element from the list which is None\n",
      "The remove function removed the first occurrence of element from the list which is None\n",
      "Now the list is [1, 3, 2, 4, 5, 7]\n"
     ]
    }
   ],
   "source": [
    "r = [1,2,3,2,4,5,6,7]\n",
    "r\n",
    "\n",
    "s = r.remove(2)               # remove through element value \n",
    "t = r.remove(6)\n",
    "print(\"The remove function removed the first occurrence of element from the list which is {}\".format(s))  # returns none \n",
    "print(\"The remove function removed the first occurrence of element from the list which is {}\".format(t))\n",
    "print(\"Now the list is {}\".format(r))"
   ]
  },
  {
   "cell_type": "markdown",
   "id": "93836042",
   "metadata": {},
   "source": [
    "we can not extract the removed element while using remove function however pop function allows us to store the removed element in another variable."
   ]
  },
  {
   "cell_type": "markdown",
   "id": "f9229cee",
   "metadata": {},
   "source": [
    "### 12. Describe how list values and string values are identical.\n",
    "\n",
    "   * The similarity between Lists and Strings in Python is that both are sequences. Lists are similar to strings, which are ordered collections of characters.\n",
    "   * The values that make up a list are called its elements, the elements of a list can have any type. List values can be hetero datatype while string values can't.\n",
    "   * Lists are mutable but Strings are immutable. "
   ]
  },
  {
   "cell_type": "markdown",
   "id": "534deac9",
   "metadata": {},
   "source": [
    "### 13. What's the difference between tuples and lists?\n",
    "\n",
    "\n",
    "   * Tuples are immutable collection of data however, lists are mutable collection of data. \n",
    "   * Tuples allow appending elements at the new location only however, list allow assigning new element at new and old location.\n",
    "   * To hold the data in tuple use () however, to hold the data in string use [ ]\n",
    "   * In case of tuple, we get \"count()\" and \"index()\" only because tuple is a immutable variable while in case of list we get a  lot of functions and methods because list is a mutable variable.  \n",
    "   * In case of tuple, direct insertion is not allowed. we have to convert tuple into list using list() function, append and then convert it back to tuple using tuple() function.\n",
    "   * Tuples can be used for safty of a data as anyone can not change or modify the data store in the location while in string data can be modified easily."
   ]
  },
  {
   "cell_type": "code",
   "execution_count": 30,
   "id": "78cba6f7",
   "metadata": {},
   "outputs": [],
   "source": [
    "t = (\"Full\", \"Stack\", \"Data\", \"Science\", 2021)       # to hold the data in tuple use ()\n",
    "l = [\"Full\", \"Stack\", \"Data\", \"Science\", 2021]        # to hold the data in string use []"
   ]
  },
  {
   "cell_type": "code",
   "execution_count": 31,
   "id": "037625b1",
   "metadata": {},
   "outputs": [
    {
     "ename": "TypeError",
     "evalue": "'tuple' object does not support item assignment",
     "output_type": "error",
     "traceback": [
      "\u001b[1;31m---------------------------------------------------------------------------\u001b[0m",
      "\u001b[1;31mTypeError\u001b[0m                                 Traceback (most recent call last)",
      "\u001b[1;32m~\\AppData\\Local\\Temp/ipykernel_3500/2796923099.py\u001b[0m in \u001b[0;36m<module>\u001b[1;34m\u001b[0m\n\u001b[1;32m----> 1\u001b[1;33m \u001b[0mt\u001b[0m\u001b[1;33m[\u001b[0m\u001b[1;33m-\u001b[0m\u001b[1;36m1\u001b[0m\u001b[1;33m]\u001b[0m \u001b[1;33m=\u001b[0m \u001b[1;36m2022\u001b[0m\u001b[1;33m\u001b[0m\u001b[1;33m\u001b[0m\u001b[0m\n\u001b[0m",
      "\u001b[1;31mTypeError\u001b[0m: 'tuple' object does not support item assignment"
     ]
    }
   ],
   "source": [
    "t[-1] = 2022 "
   ]
  },
  {
   "cell_type": "code",
   "execution_count": null,
   "id": "e02040eb",
   "metadata": {},
   "outputs": [],
   "source": [
    "l[-1] = 2022\n",
    "l"
   ]
  },
  {
   "cell_type": "code",
   "execution_count": null,
   "id": "0453f547",
   "metadata": {},
   "outputs": [],
   "source": [
    "T = (\"FSDS\",\"iNeuron\")                                 # append is allowed in tuple, assigning elements in new location\n",
    "t + T"
   ]
  },
  {
   "cell_type": "markdown",
   "id": "2c9a60ec",
   "metadata": {},
   "source": [
    "### 14. How do you type a tuple value that only contains the integer 42?"
   ]
  },
  {
   "cell_type": "code",
   "execution_count": 32,
   "id": "36286e0f",
   "metadata": {},
   "outputs": [
    {
     "data": {
      "text/plain": [
       "(42,)"
      ]
     },
     "execution_count": 32,
     "metadata": {},
     "output_type": "execute_result"
    }
   ],
   "source": [
    "l = [42]                        # first we will create a list with tuple value\n",
    "tv = tuple(l)                   # in-built function tuple to convert the list to tuple\n",
    "tv"
   ]
  },
  {
   "cell_type": "code",
   "execution_count": 33,
   "id": "2648b5ad",
   "metadata": {},
   "outputs": [
    {
     "data": {
      "text/plain": [
       "tuple"
      ]
     },
     "execution_count": 33,
     "metadata": {},
     "output_type": "execute_result"
    }
   ],
   "source": [
    "type(tv)                        # type is tuple"
   ]
  },
  {
   "cell_type": "markdown",
   "id": "757538ae",
   "metadata": {},
   "source": [
    "### 15. How do you get a list value's tuple form? How do you get a tuple value's list form?"
   ]
  },
  {
   "cell_type": "code",
   "execution_count": 34,
   "id": "23b40b54",
   "metadata": {},
   "outputs": [
    {
     "name": "stdout",
     "output_type": "stream",
     "text": [
      "List is: ['Full', 'Stack', 'Data', 'Science', 2022]\n",
      "List values converted in tuple form: ('Full', 'Stack', 'Data', 'Science', 2022)\n",
      "Type is: <class 'tuple'>\n"
     ]
    }
   ],
   "source": [
    "l = [\"Full\", \"Stack\", \"Data\", \"Science\", 2022]        # to hold the data in string use [] \n",
    "\n",
    "# To get list values in tuple form use tuple() in-built function\n",
    "\n",
    "list_to_tuple = tuple(l)\n",
    "print(\"List is: {}\".format(l))\n",
    "print(\"List values converted in tuple form: {}\".format(list_to_tuple))\n",
    "print(\"Type is: {}\".format(type(list_to_tuple)))"
   ]
  },
  {
   "cell_type": "code",
   "execution_count": 36,
   "id": "f55ea2fc",
   "metadata": {},
   "outputs": [
    {
     "name": "stdout",
     "output_type": "stream",
     "text": [
      "Tuple is: ('Full', 'Stack', 'Data', 'Science', 2022)\n",
      "Tuple values converted in list form: ['Full', 'Stack', 'Data', 'Science', 2022]\n",
      "Type is: <class 'list'>\n"
     ]
    }
   ],
   "source": [
    "t = (\"Full\", \"Stack\", \"Data\", \"Science\", 2022)       # to hold the data in tuple use ()     \n",
    "\n",
    "# To get tuple values in list form we use list() function\n",
    "\n",
    "tuple_to_list = list(t)\n",
    "print(\"Tuple is: {}\".format(t))\n",
    "print(\"Tuple values converted in list form: {}\".format(tuple_to_list))\n",
    "print(\"Type is: {}\".format(type(tuple_to_list)))"
   ]
  },
  {
   "cell_type": "markdown",
   "id": "966ba750",
   "metadata": {},
   "source": [
    "### 16. Variables that \"contain\" list values are not necessarily lists themselves. Instead, what do they contain?\n",
    "   They contain references to list values. Reference to list value concept is explained in next question by the concept of shallow and deep copy."
   ]
  },
  {
   "cell_type": "markdown",
   "id": "aced551f",
   "metadata": {},
   "source": [
    "### 17. How do you distinguish between copy.copy() and copy.deepcopy()?\n",
    "\n",
    "* Essentially, sometimes you may want to have the original values unchanged and only modify the new values or vice versa. In Python, there are two ways to create copies:\n",
    "    * Shallow Copy\n",
    "    * Deep Copy\n",
    "* To make these copy work, we use the copy module.\n",
    "   \n",
    "   \n",
    "   \n",
    "   * **copy.copy():** A shallow copy creates a new object which stores the **reference** of the original elements. So, a shallow copy doesn't create a copy of nested objects, instead it just copies the reference of nested objects. This means, a copy process does not recurse or create copies of nested objects itself. if we apply changes on the elements of old list, those will visible in the new list.\n",
    "   \n",
    "   \n",
    "   * **copy.deepcopy():** If we deepcopy a list, changes apply on the elements of old list will not visible in the new list.\n",
    "   \n",
    "   \n",
    "   \n",
    "   \n",
    "   Reference: https://www.programiz.com/python-programming/shallow-deep-copy\n",
    "  "
   ]
  },
  {
   "cell_type": "code",
   "execution_count": 53,
   "id": "c2cbd659",
   "metadata": {},
   "outputs": [
    {
     "name": "stdout",
     "output_type": "stream",
     "text": [
      "Old List: [[1, 2, 3], [4, 5, 6], [7, 8, 9]]\n",
      "ID of Old List: 2760063503104\n",
      "New List: [[1, 2, 3], [4, 5, 6], [7, 8, 9]]\n",
      "ID of New List: 2760063503104\n"
     ]
    }
   ],
   "source": [
    "# Example 1: Copy using = operator\n",
    "\n",
    "old_list = [[1, 2, 3], [4, 5, 6], [7, 8, 'a']]\n",
    "new_list = old_list\n",
    "\n",
    "new_list[2][2] = 9\n",
    "\n",
    "print('Old List:', old_list)\n",
    "print('ID of Old List:', id(old_list))\n",
    "\n",
    "print('New List:', new_list)\n",
    "print('ID of New List:', id(new_list))"
   ]
  },
  {
   "cell_type": "markdown",
   "id": "2138fb93",
   "metadata": {},
   "source": [
    "As you can see from the output both variables old_list and new_list shares the same id.\n",
    "\n",
    "So, if you want to modify any values in new_list or old_list, the change is visible in both."
   ]
  },
  {
   "cell_type": "markdown",
   "id": "4c0d23cb",
   "metadata": {},
   "source": [
    "### Shallow Copy"
   ]
  },
  {
   "cell_type": "code",
   "execution_count": 54,
   "id": "54056be0",
   "metadata": {},
   "outputs": [
    {
     "name": "stdout",
     "output_type": "stream",
     "text": [
      "Old list: [[1, 2, 3], [4, 5, 6], [7, 8, 9]]\n",
      "ID of Old List: 2760112715968\n",
      "New list: [[1, 2, 3], [4, 5, 6], [7, 8, 9]]\n",
      "ID of New List: 2760104545408\n"
     ]
    }
   ],
   "source": [
    "import copy\n",
    "\n",
    "\n",
    "# Example 2: Create a copy using shallow copy\n",
    "\n",
    "\n",
    "old_list = [[1, 2, 3], [4, 5, 6], [7, 8, 9]]\n",
    "new_list = copy.copy(old_list)\n",
    "\n",
    "print(\"Old list:\", old_list)\n",
    "print('ID of Old List:', id(old_list))\n",
    "print(\"New list:\", new_list)\n",
    "print('ID of New List:', id(new_list))"
   ]
  },
  {
   "cell_type": "markdown",
   "id": "0a520c71",
   "metadata": {},
   "source": [
    "As you can see from the output both variables old_list and new_list shares the different id.\n",
    "\n",
    "In above program, we created a nested list and then shallow copy it using copy() method.\n",
    "\n",
    "This means it will create new and independent object with same content. To verify this, we print the both old_list and new_list.\n",
    "To confirm that new_list is different from old_list, we try to add new nested object to original and check it."
   ]
  },
  {
   "cell_type": "code",
   "execution_count": 55,
   "id": "52c84577",
   "metadata": {},
   "outputs": [
    {
     "name": "stdout",
     "output_type": "stream",
     "text": [
      "Old list: [[1, 2, 3], [4, 5, 6], [7, 8, 9], [4, 4, 4]]\n",
      "New list: [[1, 2, 3], [4, 5, 6], [7, 8, 9]]\n"
     ]
    }
   ],
   "source": [
    "# Example 3: Adding [4, 4, 4] to old_list, using shallow copy\n",
    "\n",
    "\n",
    "old_list.append([4, 4, 4])\n",
    "\n",
    "print(\"Old list:\", old_list)\n",
    "print(\"New list:\", new_list)"
   ]
  },
  {
   "cell_type": "markdown",
   "id": "87613c50",
   "metadata": {},
   "source": [
    "In the above program, we created a shallow copy of old_list. The new_list contains references to original nested objects stored in old_list. Then we add the new list i.e [4, 4, 4] into old_list. This new sublist was not copied in new_list.\n",
    "\n",
    "However, when you change any nested objects in old_list, the changes appear in new_list."
   ]
  },
  {
   "cell_type": "code",
   "execution_count": 56,
   "id": "97e62d36",
   "metadata": {},
   "outputs": [
    {
     "name": "stdout",
     "output_type": "stream",
     "text": [
      "Old list: [[1, 2, 3], [4, 'AA', 6], [7, 8, 9], [4, 4, 4]]\n",
      "New list: [[1, 2, 3], [4, 'AA', 6], [7, 8, 9]]\n"
     ]
    }
   ],
   "source": [
    "# Example 4: Adding new nested object using Shallow copy\n",
    "\n",
    "\n",
    "old_list[1][1] = 'AA'              # old location in old list\n",
    "\n",
    "print(\"Old list:\", old_list)\n",
    "print(\"New list:\", new_list)"
   ]
  },
  {
   "cell_type": "markdown",
   "id": "4bc7a868",
   "metadata": {},
   "source": [
    "In the above program, we made changes to old_list i.e old_list[1][1] = 'AA'. Both sublists of old_list and new_list at index [1][1] were modified. This is because, **both lists share the reference of same nested objects.**"
   ]
  },
  {
   "cell_type": "markdown",
   "id": "38682865",
   "metadata": {},
   "source": [
    "### Deepcopy"
   ]
  },
  {
   "cell_type": "code",
   "execution_count": 57,
   "id": "71966ed5",
   "metadata": {},
   "outputs": [
    {
     "name": "stdout",
     "output_type": "stream",
     "text": [
      "Old list: [[1, 1, 1], [2, 2, 2], [3, 3, 3]]\n",
      "New list: [[1, 1, 1], [2, 2, 2], [3, 3, 3]]\n"
     ]
    }
   ],
   "source": [
    "# Example 5: Copying a list using deepcopy()\n",
    "\n",
    "\n",
    "old_list = [[1, 1, 1], [2, 2, 2], [3, 3, 3]]\n",
    "new_list = copy.deepcopy(old_list)\n",
    "\n",
    "print(\"Old list:\", old_list)\n",
    "print(\"New list:\", new_list)"
   ]
  },
  {
   "cell_type": "markdown",
   "id": "d1a5170c",
   "metadata": {},
   "source": [
    "In the above program, we use deepcopy() function to create copy which looks similar.\n",
    "\n",
    "However, if you make changes to any nested objects in original object old_list, you’ll see no changes to the copy new_list.\n",
    "\n"
   ]
  },
  {
   "cell_type": "code",
   "execution_count": 58,
   "id": "21a7e2c6",
   "metadata": {},
   "outputs": [
    {
     "name": "stdout",
     "output_type": "stream",
     "text": [
      "Old list: [[1, 1, 1], ['BB', 2, 2], [3, 3, 3]]\n",
      "New list: [[1, 1, 1], [2, 2, 2], [3, 3, 3]]\n"
     ]
    }
   ],
   "source": [
    "# Example 6: Adding a new nested object in the list using Deep copy\n",
    "\n",
    "\n",
    "old_list[1][0] = 'BB'\n",
    "\n",
    "print(\"Old list:\", old_list)\n",
    "print(\"New list:\", new_list)"
   ]
  },
  {
   "cell_type": "markdown",
   "id": "15e45bc8",
   "metadata": {},
   "source": [
    "In the above program, when we assign a new value to old_list, we can see only the old_list is modified. This means, both the old_list and the new_list are independent. This is because the old_list was recursively copied, which is true for all its nested objects."
   ]
  },
  {
   "cell_type": "code",
   "execution_count": null,
   "id": "4027d095",
   "metadata": {},
   "outputs": [],
   "source": []
  },
  {
   "cell_type": "code",
   "execution_count": null,
   "id": "257387c0",
   "metadata": {},
   "outputs": [],
   "source": []
  }
 ],
 "metadata": {
  "kernelspec": {
   "display_name": "Python 3 (ipykernel)",
   "language": "python",
   "name": "python3"
  },
  "language_info": {
   "codemirror_mode": {
    "name": "ipython",
    "version": 3
   },
   "file_extension": ".py",
   "mimetype": "text/x-python",
   "name": "python",
   "nbconvert_exporter": "python",
   "pygments_lexer": "ipython3",
   "version": "3.9.7"
  }
 },
 "nbformat": 4,
 "nbformat_minor": 5
}
