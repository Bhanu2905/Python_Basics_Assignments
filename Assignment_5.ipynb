{
 "cells": [
  {
   "cell_type": "markdown",
   "id": "105ec18c",
   "metadata": {},
   "source": [
    "# Assignment_5: Python Basics"
   ]
  },
  {
   "cell_type": "markdown",
   "id": "816cf353",
   "metadata": {},
   "source": [
    "1. What does an empty dictionary's code look like?\n",
    "2. What is the value of a dictionary value with the key 'foo' and the value 42?\n",
    "3. What is the most significant distinction between a dictionary and a list?\n",
    "4. What happens if you try to access spam['foo'] if spam is {'bar': 100}?\n",
    "5. If a dictionary is stored in spam, what is the difference between the expressions 'cat' in spam and 'cat' in spam.keys()?\n",
    "6.  What is a shortcut for the following code?\n",
    "   * if 'color' not in spam:\n",
    "   * spam['color'] = 'black'\n",
    "\n",
    "7. How do you \"pretty print\" dictionary values using which module and function?\n",
    "\n"
   ]
  },
  {
   "cell_type": "markdown",
   "id": "c86b795f",
   "metadata": {},
   "source": [
    "## 1. What does an empty dictionary's code look like?\n",
    "    To create an empty dictionary, the dictionary should be set to {}. This is shown in the code below. "
   ]
  },
  {
   "cell_type": "code",
   "execution_count": 1,
   "id": "d98242bd",
   "metadata": {},
   "outputs": [
    {
     "data": {
      "text/plain": [
       "dict"
      ]
     },
     "execution_count": 1,
     "metadata": {},
     "output_type": "execute_result"
    }
   ],
   "source": [
    "d = {}\n",
    "type(d)"
   ]
  },
  {
   "cell_type": "markdown",
   "id": "b5eadd55",
   "metadata": {},
   "source": [
    "## 2. What is the value of a dictionary value with the key 'foo' and the value 42?"
   ]
  },
  {
   "cell_type": "code",
   "execution_count": 2,
   "id": "f5ea69cf",
   "metadata": {},
   "outputs": [
    {
     "data": {
      "text/plain": [
       "dict"
      ]
     },
     "execution_count": 2,
     "metadata": {},
     "output_type": "execute_result"
    }
   ],
   "source": [
    "d = {\"foo\":42}\n",
    "type(d)"
   ]
  },
  {
   "cell_type": "markdown",
   "id": "495d5bfb",
   "metadata": {},
   "source": [
    "## 3. What is the most significant distinction between a dictionary and a list?\n",
    "\n",
    "* In case of flattened data, Dictionary is a collection of inordered data while list is a collection of ordered data. \n",
    "* In case of unflattend data, if key value  is in list that will follow the indexed ordered format "
   ]
  },
  {
   "cell_type": "code",
   "execution_count": 4,
   "id": "441e4656",
   "metadata": {},
   "outputs": [
    {
     "name": "stdout",
     "output_type": "stream",
     "text": [
      "['one', 'two', 'three']\n",
      "{'1': 'one', '2': 'two', '3': 'three'}\n"
     ]
    }
   ],
   "source": [
    "l = [\"one\",\"two\",\"three\"]\n",
    "d = {'1':\"one\",'2':\"two\",'3':\"three\"}\n",
    "print(l)\n",
    "print(d)"
   ]
  },
  {
   "cell_type": "code",
   "execution_count": 5,
   "id": "3a80b63e",
   "metadata": {},
   "outputs": [
    {
     "data": {
      "text/plain": [
       "'one'"
      ]
     },
     "execution_count": 5,
     "metadata": {},
     "output_type": "execute_result"
    }
   ],
   "source": [
    "l[0]"
   ]
  },
  {
   "cell_type": "code",
   "execution_count": 6,
   "id": "dccf7172",
   "metadata": {},
   "outputs": [
    {
     "ename": "KeyError",
     "evalue": "0",
     "output_type": "error",
     "traceback": [
      "\u001b[1;31m---------------------------------------------------------------------------\u001b[0m",
      "\u001b[1;31mKeyError\u001b[0m                                  Traceback (most recent call last)",
      "\u001b[1;32m~\\AppData\\Local\\Temp/ipykernel_10728/1089268471.py\u001b[0m in \u001b[0;36m<module>\u001b[1;34m\u001b[0m\n\u001b[1;32m----> 1\u001b[1;33m \u001b[0md\u001b[0m\u001b[1;33m[\u001b[0m\u001b[1;36m0\u001b[0m\u001b[1;33m]\u001b[0m\u001b[1;33m\u001b[0m\u001b[1;33m\u001b[0m\u001b[0m\n\u001b[0m",
      "\u001b[1;31mKeyError\u001b[0m: 0"
     ]
    }
   ],
   "source": [
    "d[0]       # index value is not allowed as dictionary is an unordered collection of data."
   ]
  },
  {
   "cell_type": "code",
   "execution_count": 8,
   "id": "b968272e",
   "metadata": {},
   "outputs": [
    {
     "data": {
      "text/plain": [
       "'one'"
      ]
     },
     "execution_count": 8,
     "metadata": {},
     "output_type": "execute_result"
    }
   ],
   "source": [
    "d['1']      # key value extraction is allowed"
   ]
  },
  {
   "cell_type": "code",
   "execution_count": 15,
   "id": "dc966c98",
   "metadata": {},
   "outputs": [
    {
     "data": {
      "text/plain": [
       "{'name ': {'k1': 'wer', 'k4': [345, 534535, 534]},\n",
       " 'age': 3455,\n",
       " True: {45, 54, 454, 34545},\n",
       " 'key': False,\n",
       " 34554: (45, 45, 45, 45),\n",
       " '_sfsdf': [34, 45, 454, 54, 545]}"
      ]
     },
     "execution_count": 15,
     "metadata": {},
     "output_type": "execute_result"
    }
   ],
   "source": [
    "x2 = {\"name \" :{\"k1\":\"wer\",'k4' :[345,534535,534,]} , \"age\": 3455 ,True : {45,34545,454,54}, \"key\" : False , 34554:(45,45,45,45) , \"_sfsdf\" : [34,45,454,54,545]}\n",
    "x2"
   ]
  },
  {
   "cell_type": "code",
   "execution_count": 16,
   "id": "0eb799f1",
   "metadata": {},
   "outputs": [
    {
     "data": {
      "text/plain": [
       "54"
      ]
     },
     "execution_count": 16,
     "metadata": {},
     "output_type": "execute_result"
    }
   ],
   "source": [
    "x2[\"_sfsdf\"][3]           # [key][index of list inside a dictionary as key value]"
   ]
  },
  {
   "cell_type": "markdown",
   "id": "2276b195",
   "metadata": {},
   "source": [
    "## 4. What happens if you try to access spam['foo'] if spam is {'bar': 100}?"
   ]
  },
  {
   "cell_type": "code",
   "execution_count": 11,
   "id": "6fcd3ad2",
   "metadata": {},
   "outputs": [
    {
     "ename": "KeyError",
     "evalue": "'foo'",
     "output_type": "error",
     "traceback": [
      "\u001b[1;31m---------------------------------------------------------------------------\u001b[0m",
      "\u001b[1;31mKeyError\u001b[0m                                  Traceback (most recent call last)",
      "\u001b[1;32m~\\AppData\\Local\\Temp/ipykernel_10728/4026577702.py\u001b[0m in \u001b[0;36m<module>\u001b[1;34m\u001b[0m\n\u001b[0;32m      1\u001b[0m \u001b[0mspam\u001b[0m \u001b[1;33m=\u001b[0m \u001b[1;33m{\u001b[0m\u001b[1;34m'bar'\u001b[0m\u001b[1;33m:\u001b[0m\u001b[1;36m100\u001b[0m\u001b[1;33m}\u001b[0m\u001b[1;33m\u001b[0m\u001b[1;33m\u001b[0m\u001b[0m\n\u001b[1;32m----> 2\u001b[1;33m \u001b[0mspam\u001b[0m\u001b[1;33m[\u001b[0m\u001b[1;34m'foo'\u001b[0m\u001b[1;33m]\u001b[0m\u001b[1;33m\u001b[0m\u001b[1;33m\u001b[0m\u001b[0m\n\u001b[0m",
      "\u001b[1;31mKeyError\u001b[0m: 'foo'"
     ]
    }
   ],
   "source": [
    "spam = {'bar':100}\n",
    "spam['foo']"
   ]
  },
  {
   "cell_type": "markdown",
   "id": "712c178f",
   "metadata": {},
   "source": [
    "It shows key error about key not found in dictionary."
   ]
  },
  {
   "cell_type": "markdown",
   "id": "4276543d",
   "metadata": {},
   "source": [
    "## 5. If a dictionary is stored in spam, what is the difference between the expressions 'cat' in spam and 'cat' in spam.keys()?"
   ]
  },
  {
   "cell_type": "code",
   "execution_count": 12,
   "id": "65e30872",
   "metadata": {},
   "outputs": [],
   "source": [
    "spam = {'cat':2}"
   ]
  },
  {
   "cell_type": "code",
   "execution_count": 13,
   "id": "b136f6f1",
   "metadata": {},
   "outputs": [
    {
     "data": {
      "text/plain": [
       "True"
      ]
     },
     "execution_count": 13,
     "metadata": {},
     "output_type": "execute_result"
    }
   ],
   "source": [
    "'cat' in spam"
   ]
  },
  {
   "cell_type": "code",
   "execution_count": 14,
   "id": "effe1278",
   "metadata": {},
   "outputs": [
    {
     "data": {
      "text/plain": [
       "True"
      ]
     },
     "execution_count": 14,
     "metadata": {},
     "output_type": "execute_result"
    }
   ],
   "source": [
    "'cat' in spam.keys()"
   ]
  },
  {
   "cell_type": "markdown",
   "id": "710547b3",
   "metadata": {},
   "source": [
    "Both returns true for the same operation. They both expressions are finding the key 'cat' in the dictionary spam "
   ]
  },
  {
   "cell_type": "markdown",
   "id": "44bc8f0a",
   "metadata": {},
   "source": [
    "## 7. What is a shortcut for the following code?\n",
    "   * if 'color' not in spam:\n",
    "   * spam['color'] = 'black'"
   ]
  },
  {
   "cell_type": "code",
   "execution_count": 3,
   "id": "1c155a25",
   "metadata": {},
   "outputs": [
    {
     "data": {
      "text/plain": [
       "{'name': 'Pooka', 'age': 5, 'color': 'black'}"
      ]
     },
     "execution_count": 3,
     "metadata": {},
     "output_type": "execute_result"
    }
   ],
   "source": [
    "spam = {'name': 'Pooka', 'age': 5}\n",
    "if 'color' not in spam:\n",
    "    spam['color'] = 'black'\n",
    "spam"
   ]
  },
  {
   "cell_type": "markdown",
   "id": "28e14f68",
   "metadata": {},
   "source": [
    "The setdefault() method offers a way to do this in one line of code. The first argument passed to the method is the key to check for, and the second argument is the value to set at that key if the key does not exist. If the key does exist, the setdefault() method returns the key’s value.\n",
    "\n",
    "* Signature: spam.setdefault(key, default=None, /)\n",
    "    * Docstring: Insert key with a value of default if key is not in the dictionary. Return the value for key if key is in the dictionary, else default.\n",
    "    * Type:      builtin_function_or_method"
   ]
  },
  {
   "cell_type": "code",
   "execution_count": 4,
   "id": "13b8d35f",
   "metadata": {},
   "outputs": [
    {
     "data": {
      "text/plain": [
       "{'name': 'Pooka', 'age': 5, 'color': 'black'}"
      ]
     },
     "execution_count": 4,
     "metadata": {},
     "output_type": "execute_result"
    }
   ],
   "source": [
    "spam = {'name': 'Pooka', 'age': 5}\n",
    "spam.setdefault('color', 'black')\n",
    "spam"
   ]
  },
  {
   "cell_type": "markdown",
   "id": "be15dcdb",
   "metadata": {},
   "source": [
    "## 8. How do you \"pretty print\" dictionary values using which module and function?"
   ]
  },
  {
   "cell_type": "markdown",
   "id": "52d7db6e",
   "metadata": {},
   "source": [
    "* Pretty printing means to present something in a more readable format or style.\n",
    "* Within the **pprint** module there is a function with the same name **pprint()**, which is the function used to pretty-print the given string or object.\n",
    "* pprint is a Python module that provides the capability to pretty print Python data types to be more readable. This module also supports pretty-printing dictionary."
   ]
  },
  {
   "cell_type": "code",
   "execution_count": 12,
   "id": "6c4e6fee",
   "metadata": {},
   "outputs": [],
   "source": [
    "d = [\n",
    "  {'Name': 'John', 'Age': '23', 'Country': 'USA'},\n",
    "  {'Name': 'Jose', 'Age': '44', 'Country': 'Spain'},\n",
    "  {'Name': 'Anne', 'Age': '29', 'Country': 'UK'},\n",
    "  {'Name': 'Lee', 'Age': '35', 'Country': 'Japan'}\n",
    "]\n",
    "\n"
   ]
  },
  {
   "cell_type": "markdown",
   "id": "694008a5",
   "metadata": {},
   "source": [
    "Output for print()"
   ]
  },
  {
   "cell_type": "code",
   "execution_count": 13,
   "id": "c4ca7845",
   "metadata": {},
   "outputs": [
    {
     "name": "stdout",
     "output_type": "stream",
     "text": [
      "[{'Name': 'John', 'Age': '23', 'Country': 'USA'}, {'Name': 'Jose', 'Age': '44', 'Country': 'Spain'}, {'Name': 'Anne', 'Age': '29', 'Country': 'UK'}, {'Name': 'Lee', 'Age': '35', 'Country': 'Japan'}]\n"
     ]
    }
   ],
   "source": [
    "print(d)"
   ]
  },
  {
   "cell_type": "markdown",
   "id": "f3cd558c",
   "metadata": {},
   "source": [
    "Output for pretty print"
   ]
  },
  {
   "cell_type": "code",
   "execution_count": 10,
   "id": "8a483e21",
   "metadata": {},
   "outputs": [
    {
     "name": "stdout",
     "output_type": "stream",
     "text": [
      "[{'Age': '23', 'Country': 'USA', 'Name': 'John'},\n",
      " {'Age': '44', 'Country': 'Spain', 'Name': 'Jose'},\n",
      " {'Age': '29', 'Country': 'UK', 'Name': 'Anne'},\n",
      " {'Age': '35', 'Country': 'Japan', 'Name': 'Lee'}]\n"
     ]
    }
   ],
   "source": [
    "import pprint\n",
    "\n",
    "pprint.pprint(d)"
   ]
  },
  {
   "cell_type": "code",
   "execution_count": null,
   "id": "a0343f68",
   "metadata": {},
   "outputs": [],
   "source": []
  }
 ],
 "metadata": {
  "kernelspec": {
   "display_name": "Python 3 (ipykernel)",
   "language": "python",
   "name": "python3"
  },
  "language_info": {
   "codemirror_mode": {
    "name": "ipython",
    "version": 3
   },
   "file_extension": ".py",
   "mimetype": "text/x-python",
   "name": "python",
   "nbconvert_exporter": "python",
   "pygments_lexer": "ipython3",
   "version": "3.9.7"
  }
 },
 "nbformat": 4,
 "nbformat_minor": 5
}
