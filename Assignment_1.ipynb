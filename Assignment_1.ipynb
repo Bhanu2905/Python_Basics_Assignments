{
 "cells": [
  {
   "cell_type": "markdown",
   "id": "6ef4a090",
   "metadata": {},
   "source": [
    "# Python Basics: Assignment_1"
   ]
  },
  {
   "cell_type": "markdown",
   "id": "e687af32",
   "metadata": {},
   "source": [
    "## 1. In the below elements which of them are values or an expression? eg:- values can be integer or string and expressions will be mathematical operators.\n",
    " * \"*\" \n",
    " * 'hello'\n",
    " * -87.8\n",
    " * \"-\" \n",
    " * / \n",
    " * \"+\"\t\n",
    " * 6 "
   ]
  },
  {
   "cell_type": "code",
   "execution_count": 1,
   "id": "dcdf1c82",
   "metadata": {},
   "outputs": [
    {
     "name": "stdout",
     "output_type": "stream",
     "text": [
      "200 -10 0.5 30\n"
     ]
    }
   ],
   "source": [
    "a = 10                #assigning integer value \"10\" to variable \"a\"\n",
    "b = 20                #assigning interger value \"20\" to variable \"b\"\n",
    "\n",
    "# All the operators in Python is represented in purple colour.\n",
    "\n",
    "product = a * b       #expression for multiplication\n",
    "substraction = a - b  #expression for substraction\n",
    "division = a/b        #expression for dividion\n",
    "addition = a + b      #expression for addition\n",
    "print (product, substraction, division, addition)"
   ]
  },
  {
   "cell_type": "code",
   "execution_count": 2,
   "id": "dbd3f754",
   "metadata": {},
   "outputs": [
    {
     "data": {
      "text/plain": [
       "str"
      ]
     },
     "execution_count": 2,
     "metadata": {},
     "output_type": "execute_result"
    }
   ],
   "source": [
    "type(\"hello\")"
   ]
  },
  {
   "cell_type": "code",
   "execution_count": 3,
   "id": "07029243",
   "metadata": {},
   "outputs": [
    {
     "data": {
      "text/plain": [
       "float"
      ]
     },
     "execution_count": 3,
     "metadata": {},
     "output_type": "execute_result"
    }
   ],
   "source": [
    "type(-87.8)"
   ]
  },
  {
   "cell_type": "code",
   "execution_count": 4,
   "id": "88671db1",
   "metadata": {},
   "outputs": [
    {
     "data": {
      "text/plain": [
       "int"
      ]
     },
     "execution_count": 4,
     "metadata": {},
     "output_type": "execute_result"
    }
   ],
   "source": [
    "type(6)"
   ]
  },
  {
   "cell_type": "markdown",
   "id": "07967514",
   "metadata": {},
   "source": [
    "Solution 1:\n",
    " * \" * \"  is an operator for multiplication: **Expression**\n",
    " * 'hello' is a string data:                 **Value**\n",
    " * -87.8 is a floating data:                 **Value**\n",
    " * \" - \" is an operator for substraction:   **Expression**\n",
    " * \" / \" is an operator for division:       **Expression**\n",
    " * \" + \"\tis an operator for addition:     **Expression**\n",
    " * 6 is an integer data:                     **Value**"
   ]
  },
  {
   "cell_type": "markdown",
   "id": "5fa49f28",
   "metadata": {},
   "source": [
    "## 2. What is the difference between string and variable?\n",
    "Solution 2: \n",
    "\n",
    "* **String**: A String is a type of information you would store in a variable. A String is usually words, enclosed with \" \" or ' '. In the context of data science, features in dataset like full name of a customer, and reviews for products are of string datatype.\n",
    "  * For Example:"
   ]
  },
  {
   "cell_type": "code",
   "execution_count": 5,
   "id": "cc4508d8",
   "metadata": {},
   "outputs": [
    {
     "data": {
      "text/plain": [
       "str"
      ]
     },
     "execution_count": 5,
     "metadata": {},
     "output_type": "execute_result"
    }
   ],
   "source": [
    "type(\"This is a string\")"
   ]
  },
  {
   "cell_type": "code",
   "execution_count": 6,
   "id": "84ed6ed8",
   "metadata": {},
   "outputs": [
    {
     "data": {
      "text/plain": [
       "str"
      ]
     },
     "execution_count": 6,
     "metadata": {},
     "output_type": "execute_result"
    }
   ],
   "source": [
    "type('This is a string')"
   ]
  },
  {
   "cell_type": "markdown",
   "id": "816f9f8d",
   "metadata": {},
   "source": [
    "* **Variable**: Variable is the name of the space/location we assign with the help of assignment operator \"=\". It stores different type of data like integer, string, float, boolean, complex number temporary in RAM/main memory.\n",
    "   * For Example: a,b,c,d,and e are variables."
   ]
  },
  {
   "cell_type": "code",
   "execution_count": 7,
   "id": "c2bb3be8",
   "metadata": {},
   "outputs": [],
   "source": [
    "a = 10\n",
    "b = \"ten\"\n",
    "c = 10.10\n",
    "d = True\n",
    "e = 10+10j"
   ]
  },
  {
   "cell_type": "code",
   "execution_count": 8,
   "id": "796e20b7",
   "metadata": {},
   "outputs": [
    {
     "data": {
      "text/plain": [
       "int"
      ]
     },
     "execution_count": 8,
     "metadata": {},
     "output_type": "execute_result"
    }
   ],
   "source": [
    "type(a)"
   ]
  },
  {
   "cell_type": "code",
   "execution_count": 9,
   "id": "a5f3cdb2",
   "metadata": {},
   "outputs": [
    {
     "data": {
      "text/plain": [
       "str"
      ]
     },
     "execution_count": 9,
     "metadata": {},
     "output_type": "execute_result"
    }
   ],
   "source": [
    "type(b)"
   ]
  },
  {
   "cell_type": "code",
   "execution_count": 10,
   "id": "739744dd",
   "metadata": {},
   "outputs": [
    {
     "data": {
      "text/plain": [
       "float"
      ]
     },
     "execution_count": 10,
     "metadata": {},
     "output_type": "execute_result"
    }
   ],
   "source": [
    "type(c)"
   ]
  },
  {
   "cell_type": "code",
   "execution_count": 11,
   "id": "4c6b987b",
   "metadata": {},
   "outputs": [
    {
     "data": {
      "text/plain": [
       "bool"
      ]
     },
     "execution_count": 11,
     "metadata": {},
     "output_type": "execute_result"
    }
   ],
   "source": [
    "type(d)"
   ]
  },
  {
   "cell_type": "code",
   "execution_count": 12,
   "id": "c552c0d0",
   "metadata": {},
   "outputs": [
    {
     "data": {
      "text/plain": [
       "complex"
      ]
     },
     "execution_count": 12,
     "metadata": {},
     "output_type": "execute_result"
    }
   ],
   "source": [
    "type(e)"
   ]
  },
  {
   "cell_type": "markdown",
   "id": "af33e8c9",
   "metadata": {},
   "source": [
    " ### **Difference between string and variable is string can not store data, it is a datatype in its own, while variable can store different types of data including string.**"
   ]
  },
  {
   "cell_type": "markdown",
   "id": "ae0a7fbe",
   "metadata": {},
   "source": [
    "## 3. Describe three different data types."
   ]
  },
  {
   "cell_type": "markdown",
   "id": "154adced",
   "metadata": {},
   "source": [
    "**Integer**: Integer is one of the numeric datatype. This value is represented by \"int\" class. It contains positive or negative whole numbers (without fraction or decimal). In Python there is no limit to how long an integer value can be. In context of data science, features like number of members, number od bank accounts, number of products are of integer datatype."
   ]
  },
  {
   "cell_type": "code",
   "execution_count": 13,
   "id": "f3e54970",
   "metadata": {},
   "outputs": [
    {
     "data": {
      "text/plain": [
       "int"
      ]
     },
     "execution_count": 13,
     "metadata": {},
     "output_type": "execute_result"
    }
   ],
   "source": [
    "a= 10 \n",
    "type(a)"
   ]
  },
  {
   "cell_type": "markdown",
   "id": "0f8a0db4",
   "metadata": {},
   "source": [
    "**Float**: Floating point number is another numeric datatype in Python This value is represented by \"float\" class. It is a real number with floating point representation. It is specified by a decimal point. In the context of data science, features like salary, trasaction time, sales of a product,  are of float datatype."
   ]
  },
  {
   "cell_type": "code",
   "execution_count": 14,
   "id": "9a3d5560",
   "metadata": {},
   "outputs": [
    {
     "data": {
      "text/plain": [
       "float"
      ]
     },
     "execution_count": 14,
     "metadata": {},
     "output_type": "execute_result"
    }
   ],
   "source": [
    "b = 10.23\n",
    "type(b)"
   ]
  },
  {
   "cell_type": "markdown",
   "id": "bf8255cf",
   "metadata": {},
   "source": [
    "**String**: In Python, Strings are arrays of bytes representing Unicode characters. A string is a collection of one or more characters put in a single quote, double-quote or triple quote. In python there is no character data type, a character is a string of length one. It is represented by str class.In the context of data science, features in dataset like full name of a customer, and reviews for products are of string datatype."
   ]
  },
  {
   "cell_type": "code",
   "execution_count": 15,
   "id": "a49efaed",
   "metadata": {},
   "outputs": [
    {
     "data": {
      "text/plain": [
       "str"
      ]
     },
     "execution_count": 15,
     "metadata": {},
     "output_type": "execute_result"
    }
   ],
   "source": [
    "c = \"This a string datatype\"\n",
    "type(c)"
   ]
  },
  {
   "cell_type": "markdown",
   "id": "a8237e75",
   "metadata": {},
   "source": [
    "## 4. What is an expression made up of? What do all expressions do?"
   ]
  },
  {
   "cell_type": "markdown",
   "id": "7ca076b7",
   "metadata": {},
   "source": [
    "#### An expression is made up of a combination of operators and operands.\n",
    "* **What are Operators?:**\n",
    "    * Airthmatic Operators:\n",
    "       * Addition,Substraction,Multiplication, Division, Modulus, Power.\n",
    "    * Comparison Operators:\n",
    "       * Greater than, less than, equal to, greater than equal to, less than equal to\n",
    "    * Logical Operators: \n",
    "       * Logical operators perform Logical AND, Logical OR, and Logical NOT operations. It is used to combine conditional statements.\n",
    "    * Bitwise Operators:\n",
    "       * Bitwise operators act on bits and perform the bit-by-bit operations. These are used to operate on binary numbers.\n",
    "    * Assignment Operators:\n",
    "       * Assignment operators are used to assigning values to the variables.\n",
    "* **What are Operands?:**\n",
    "    * The operand is the object that is being worked on by an operation. A basic example of an operand would be a variable declared in a program that would change value because of operations.\n",
    "    \n",
    "#### Expressions are used to evaluate the values or represent the result on the screen."
   ]
  },
  {
   "cell_type": "code",
   "execution_count": 17,
   "id": "4b2739fa",
   "metadata": {},
   "outputs": [
    {
     "name": "stdout",
     "output_type": "stream",
     "text": [
      "enter any integer value for a: 3\n",
      "enter any integer value for b: 3\n",
      "6\n",
      "0\n",
      "9\n",
      "1.0\n",
      "1\n",
      "0\n",
      "27\n"
     ]
    }
   ],
   "source": [
    "# Examples of Arithmetic Operator\n",
    "a = int(input(\"enter any integer value for a: \"))\n",
    "b = int(input(\"enter any integer value for b: \"))\n",
    " \n",
    "# Addition of numbers\n",
    "add = a + b\n",
    " \n",
    "# Subtraction of numbers\n",
    "sub = a - b\n",
    " \n",
    "# Multiplication of number\n",
    "mul = a * b\n",
    " \n",
    "# Division(float) of number\n",
    "div1 = a / b\n",
    " \n",
    "# Division(floor) of number\n",
    "div2 = a // b\n",
    " \n",
    "# Modulo of both number\n",
    "mod = a % b\n",
    " \n",
    "# Power\n",
    "p = a ** b\n",
    " \n",
    "# print results\n",
    "print(add)\n",
    "print(sub)\n",
    "print(mul)\n",
    "print(div1)\n",
    "print(div2)\n",
    "print(mod)\n",
    "print(p)"
   ]
  },
  {
   "cell_type": "code",
   "execution_count": 18,
   "id": "21cb00e4",
   "metadata": {},
   "outputs": [
    {
     "name": "stdout",
     "output_type": "stream",
     "text": [
      "enter any integer value for a: 5\n",
      "enter any integer value for b: 8\n",
      "False\n",
      "True\n",
      "False\n",
      "True\n",
      "False\n",
      "True\n"
     ]
    }
   ],
   "source": [
    "# Examples of Relational Operators\n",
    "a = int(input(\"enter any integer value for a: \"))\n",
    "b = int(input(\"enter any integer value for b: \"))\n",
    " \n",
    "# greater than\n",
    "print(a > b)\n",
    " \n",
    "# less than\n",
    "print(a < b)\n",
    " \n",
    "# equal equal to\n",
    "print(a == b)\n",
    " \n",
    "# not equal to\n",
    "print(a != b)\n",
    " \n",
    "# greater than equal to\n",
    "print(a >= b)\n",
    " \n",
    "# less than equal to\n",
    "print(a <= b)"
   ]
  },
  {
   "cell_type": "code",
   "execution_count": 19,
   "id": "9006a902",
   "metadata": {},
   "outputs": [
    {
     "name": "stdout",
     "output_type": "stream",
     "text": [
      "False\n",
      "True\n",
      "False\n"
     ]
    }
   ],
   "source": [
    "# Examples of Logical Operator\n",
    "a = True\n",
    "b = False\n",
    " \n",
    "# Print a and b is False\n",
    "print(a and b)\n",
    " \n",
    "# Print a or b is True\n",
    "print(a or b)\n",
    " \n",
    "# Print not a is False\n",
    "print(not a)"
   ]
  },
  {
   "cell_type": "code",
   "execution_count": 20,
   "id": "2e866a1e",
   "metadata": {},
   "outputs": [
    {
     "name": "stdout",
     "output_type": "stream",
     "text": [
      "enter any integer value for a: 8\n",
      "enter any integer value for b: 6\n",
      "0\n",
      "14\n",
      "-9\n",
      "14\n",
      "2\n",
      "32\n"
     ]
    }
   ],
   "source": [
    "# Examples of Bitwise operators\n",
    "a = int(input(\"enter any integer value for a: \"))\n",
    "b = int(input(\"enter any integer value for b: \"))\n",
    "\n",
    "\n",
    "# Print bitwise AND operation\n",
    "print(a & b)\n",
    " \n",
    "# Print bitwise OR operation\n",
    "print(a | b)\n",
    " \n",
    "# Print bitwise NOT operation\n",
    "print(~a)\n",
    " \n",
    "# print bitwise XOR operation\n",
    "print(a ^ b)\n",
    " \n",
    "# print bitwise right shift operation\n",
    "print(a >> 2)\n",
    " \n",
    "# print bitwise left shift operation\n",
    "print(a << 2)"
   ]
  },
  {
   "cell_type": "markdown",
   "id": "a14b4c7c",
   "metadata": {},
   "source": [
    "## 5. This assignment statements, like spam = 10. What is the difference between an expression and a statement?\n",
    " * An **expression** usually refers to a piece of code that can be evaluated to a value, and is composed of variables, operators, function calls, and literals while a **statement** refers to a piece of code that executes a specific instruction or perform action or tells the computer to complete a task.\n",
    " * In most programming languages, common examples of **expressions** are method calls and mathematical operations and a **statement** can take the form of assignments, control statements, import statements, loop statements, jump statements, or method calls.\n",
    " * The evaluation of an **expression** does not changes state but the execution of a **statement** changes state.\n",
    " * Evaluation of an **expression** always produces or returns a result value however execution of a **statement** may or may not produces or displays a result value, it only does whatever the statement says.\n",
    " * Every **expression** can’t be a statement however every **statement** can be an expression."
   ]
  },
  {
   "cell_type": "code",
   "execution_count": 21,
   "id": "93848368",
   "metadata": {},
   "outputs": [
    {
     "data": {
      "text/plain": [
       "10"
      ]
     },
     "execution_count": 21,
     "metadata": {},
     "output_type": "execute_result"
    }
   ],
   "source": [
    "spam = 10    # it is an assignment statement\n",
    "spam           # created a variable \"spam\" and displayed it's value."
   ]
  },
  {
   "cell_type": "code",
   "execution_count": 22,
   "id": "68fc6380",
   "metadata": {},
   "outputs": [
    {
     "data": {
      "text/plain": [
       "100"
      ]
     },
     "execution_count": 22,
     "metadata": {},
     "output_type": "execute_result"
    }
   ],
   "source": [
    "spam ** 2    #this is a expression. It will evaluate and delivers a value as output"
   ]
  },
  {
   "cell_type": "markdown",
   "id": "aa49d8c6",
   "metadata": {},
   "source": [
    "## 6. After running the following code, what does the variable bacon contain?\n",
    "- bacon = 22\n",
    "- bacon + 1"
   ]
  },
  {
   "cell_type": "code",
   "execution_count": 23,
   "id": "ecbde501",
   "metadata": {},
   "outputs": [
    {
     "data": {
      "text/plain": [
       "23"
      ]
     },
     "execution_count": 23,
     "metadata": {},
     "output_type": "execute_result"
    }
   ],
   "source": [
    "bacon = 22   # assigning the value 22 to variable \"bacon\"\n",
    "bacon + 1    # expression which adds 1 to the value stored in the variable \"bacon\" and displays the output after evaluationg the expression"
   ]
  },
  {
   "cell_type": "code",
   "execution_count": 24,
   "id": "1f216732",
   "metadata": {},
   "outputs": [
    {
     "data": {
      "text/plain": [
       "22"
      ]
     },
     "execution_count": 24,
     "metadata": {},
     "output_type": "execute_result"
    }
   ],
   "source": [
    "bacon      # calling the value stored in bacon"
   ]
  },
  {
   "cell_type": "markdown",
   "id": "3359b903",
   "metadata": {},
   "source": [
    "Variable \"bacon\" contain 22 because these is a operation performed on \"bacon\" but there is no assignment to the output value of the expression."
   ]
  },
  {
   "cell_type": "markdown",
   "id": "dbf770a8",
   "metadata": {},
   "source": [
    "## 7. What should the values of the following two terms be?\n",
    "* 'spam' + 'spamspam'\n",
    "* 'spam' * 3"
   ]
  },
  {
   "cell_type": "code",
   "execution_count": 25,
   "id": "ec44b014",
   "metadata": {},
   "outputs": [
    {
     "data": {
      "text/plain": [
       "'spamspamspam'"
      ]
     },
     "execution_count": 25,
     "metadata": {},
     "output_type": "execute_result"
    }
   ],
   "source": [
    "'spam' + 'spamspam'"
   ]
  },
  {
   "cell_type": "markdown",
   "id": "ac6b7192",
   "metadata": {},
   "source": [
    "Concatenation of the strings with the addition operator."
   ]
  },
  {
   "cell_type": "code",
   "execution_count": 26,
   "id": "7c82220d",
   "metadata": {},
   "outputs": [
    {
     "data": {
      "text/plain": [
       "'spamspamspam'"
      ]
     },
     "execution_count": 26,
     "metadata": {},
     "output_type": "execute_result"
    }
   ],
   "source": [
    "'spam' * 3"
   ]
  },
  {
   "cell_type": "markdown",
   "id": "2f733d39",
   "metadata": {},
   "source": [
    "Concatenation of the string using multiplication operator.\n",
    "* Results are same for both the expressions."
   ]
  },
  {
   "cell_type": "markdown",
   "id": "cac7f2da",
   "metadata": {},
   "source": [
    "## 8. Why is \"eggs\" a valid variable name while \"100\" is invalid?\n",
    "\n",
    "* Rules for Python variables:\n",
    "   * A variable name must start with a letter or the underscore character\n",
    "   * **A variable name cannot start with a number**\n",
    "   * A variable name can only contain **alpha-numeric characters and underscores (A-z, 0-9, and _ ).**\n",
    "   * Variable names are case-sensitive (age, Age and AGE are three different variables)\n",
    "   \n",
    "   \n",
    "* \"eggs\" is a valid variable name because it starts with a letter, it contains alphabets.\n",
    "* \"100\" is a invalid variable name because it starts witha number, it is not an alpha-numeric character.\n",
    "     * valid examples can be _100, a100, a_100."
   ]
  },
  {
   "cell_type": "code",
   "execution_count": 27,
   "id": "bb636002",
   "metadata": {},
   "outputs": [
    {
     "data": {
      "text/plain": [
       "100"
      ]
     },
     "execution_count": 27,
     "metadata": {},
     "output_type": "execute_result"
    }
   ],
   "source": [
    "eggs = 100\n",
    "eggs"
   ]
  },
  {
   "cell_type": "code",
   "execution_count": 28,
   "id": "4efc597f",
   "metadata": {},
   "outputs": [
    {
     "ename": "SyntaxError",
     "evalue": "cannot assign to literal (Temp/ipykernel_14508/4294703856.py, line 1)",
     "output_type": "error",
     "traceback": [
      "\u001b[1;36m  File \u001b[1;32m\"C:\\Users\\hp\\AppData\\Local\\Temp/ipykernel_14508/4294703856.py\"\u001b[1;36m, line \u001b[1;32m1\u001b[0m\n\u001b[1;33m    100 = \"bread\"\u001b[0m\n\u001b[1;37m    ^\u001b[0m\n\u001b[1;31mSyntaxError\u001b[0m\u001b[1;31m:\u001b[0m cannot assign to literal\n"
     ]
    }
   ],
   "source": [
    "100 = \"bread\""
   ]
  },
  {
   "cell_type": "code",
   "execution_count": 29,
   "id": "5daee611",
   "metadata": {},
   "outputs": [
    {
     "data": {
      "text/plain": [
       "('bread', 'jam', 'breakfast')"
      ]
     },
     "execution_count": 29,
     "metadata": {},
     "output_type": "execute_result"
    }
   ],
   "source": [
    "_100 = \"bread\"\n",
    "a100 = \"jam\"\n",
    "a_100 = \"breakfast\" \n",
    "_100, a100 , a_100"
   ]
  },
  {
   "cell_type": "markdown",
   "id": "60565e79",
   "metadata": {},
   "source": [
    "## 9. What three functions can be used to get the integer, floating-point number, or string version of a value?\n"
   ]
  },
  {
   "cell_type": "markdown",
   "id": "76fe7072",
   "metadata": {},
   "source": [
    "int(), float() and str()  are the three functions used to get the integer, floating-point number, or string version of a value repectively."
   ]
  },
  {
   "cell_type": "markdown",
   "id": "19f0db70",
   "metadata": {},
   "source": [
    "## 10. Why does this expression cause an error? How can you fix it?\n",
    "'I have eaten ' + 99 + ' burritos.'"
   ]
  },
  {
   "cell_type": "code",
   "execution_count": 36,
   "id": "55cb83c4",
   "metadata": {},
   "outputs": [
    {
     "ename": "TypeError",
     "evalue": "can only concatenate str (not \"int\") to str",
     "output_type": "error",
     "traceback": [
      "\u001b[1;31m---------------------------------------------------------------------------\u001b[0m",
      "\u001b[1;31mTypeError\u001b[0m                                 Traceback (most recent call last)",
      "\u001b[1;32m~\\AppData\\Local\\Temp/ipykernel_14508/1774935878.py\u001b[0m in \u001b[0;36m<module>\u001b[1;34m\u001b[0m\n\u001b[1;32m----> 1\u001b[1;33m \u001b[1;34m'I have eaten '\u001b[0m \u001b[1;33m+\u001b[0m \u001b[1;36m99\u001b[0m \u001b[1;33m+\u001b[0m \u001b[1;34m' burritos.'\u001b[0m\u001b[1;33m\u001b[0m\u001b[1;33m\u001b[0m\u001b[0m\n\u001b[0m",
      "\u001b[1;31mTypeError\u001b[0m: can only concatenate str (not \"int\") to str"
     ]
    }
   ],
   "source": [
    "'I have eaten ' + 99 + ' burritos.'"
   ]
  },
  {
   "cell_type": "markdown",
   "id": "94adc2f6",
   "metadata": {},
   "source": [
    "TypeError: can only concatenate str (not \"int\") to str\n",
    "\n",
    "\n",
    "* ERROR : This shows concateation is only possible in string datatype. Here, 99 is not a string value. It is a integer value.\n",
    "* FIX: To fix this typecast or strong type the integer value to string value by using quotes or by using str() function."
   ]
  },
  {
   "cell_type": "code",
   "execution_count": 37,
   "id": "76d540de",
   "metadata": {},
   "outputs": [
    {
     "data": {
      "text/plain": [
       "'I have eaten 99 burritos.'"
      ]
     },
     "execution_count": 37,
     "metadata": {},
     "output_type": "execute_result"
    }
   ],
   "source": [
    "'I have eaten ' + \"99\" + ' burritos.'"
   ]
  },
  {
   "cell_type": "code",
   "execution_count": 38,
   "id": "4cd61a4e",
   "metadata": {},
   "outputs": [
    {
     "data": {
      "text/plain": [
       "'I have eaten 99 burritos.'"
      ]
     },
     "execution_count": 38,
     "metadata": {},
     "output_type": "execute_result"
    }
   ],
   "source": [
    "'I have eaten ' + '99' + ' burritos.'"
   ]
  },
  {
   "cell_type": "code",
   "execution_count": 39,
   "id": "d394594e",
   "metadata": {},
   "outputs": [
    {
     "data": {
      "text/plain": [
       "'I have eaten 99 burritos.'"
      ]
     },
     "execution_count": 39,
     "metadata": {},
     "output_type": "execute_result"
    }
   ],
   "source": [
    "'I have eaten ' + str(99) + ' burritos.'"
   ]
  }
 ],
 "metadata": {
  "kernelspec": {
   "display_name": "Python 3 (ipykernel)",
   "language": "python",
   "name": "python3"
  },
  "language_info": {
   "codemirror_mode": {
    "name": "ipython",
    "version": 3
   },
   "file_extension": ".py",
   "mimetype": "text/x-python",
   "name": "python",
   "nbconvert_exporter": "python",
   "pygments_lexer": "ipython3",
   "version": "3.9.7"
  }
 },
 "nbformat": 4,
 "nbformat_minor": 5
}
