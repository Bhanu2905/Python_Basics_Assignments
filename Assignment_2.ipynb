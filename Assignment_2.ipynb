{
 "cells": [
  {
   "cell_type": "markdown",
   "id": "06567b80",
   "metadata": {},
   "source": [
    "# Assignment_2"
   ]
  },
  {
   "cell_type": "markdown",
   "id": "5b4e55d4",
   "metadata": {},
   "source": [
    "# 1. What are the two values of the Boolean data type? How do you write them?\n",
    "    The two values with the Boolean data type are \"True\" and \"False\"."
   ]
  },
  {
   "cell_type": "code",
   "execution_count": 58,
   "id": "04f5dd0a",
   "metadata": {},
   "outputs": [
    {
     "data": {
      "text/plain": [
       "bool"
      ]
     },
     "execution_count": 58,
     "metadata": {},
     "output_type": "execute_result"
    }
   ],
   "source": [
    "type(True)"
   ]
  },
  {
   "cell_type": "code",
   "execution_count": 59,
   "id": "efe5ccbb",
   "metadata": {},
   "outputs": [
    {
     "data": {
      "text/plain": [
       "bool"
      ]
     },
     "execution_count": 59,
     "metadata": {},
     "output_type": "execute_result"
    }
   ],
   "source": [
    "type(False)"
   ]
  },
  {
   "cell_type": "markdown",
   "id": "29083010",
   "metadata": {},
   "source": [
    "# 2. What are the three different types of Boolean operators?\n",
    "    Boolean/logical operators form the basis of mathematical sets and database logic. They connect your search words together to either narrow or broaden your set of results. The three basic boolean operators are: \n",
    "    * AND\n",
    "    * OR\n",
    "    * NOT\n",
    "    Output of the boolean expressions comprises of the boolean operators is boolean value i.e. True, False"
   ]
  },
  {
   "cell_type": "code",
   "execution_count": 60,
   "id": "a9870362",
   "metadata": {},
   "outputs": [
    {
     "data": {
      "text/plain": [
       "False"
      ]
     },
     "execution_count": 60,
     "metadata": {},
     "output_type": "execute_result"
    }
   ],
   "source": [
    "(1 == 2) and (2<=2)         # and operator"
   ]
  },
  {
   "cell_type": "code",
   "execution_count": 61,
   "id": "998f37b9",
   "metadata": {},
   "outputs": [
    {
     "data": {
      "text/plain": [
       "bool"
      ]
     },
     "execution_count": 61,
     "metadata": {},
     "output_type": "execute_result"
    }
   ],
   "source": [
    "type((1 == 2) and (2<=2))   # returns boolean value"
   ]
  },
  {
   "cell_type": "code",
   "execution_count": 62,
   "id": "68199a87",
   "metadata": {},
   "outputs": [
    {
     "name": "stdout",
     "output_type": "stream",
     "text": [
      "False\n",
      "True\n",
      "False\n"
     ]
    }
   ],
   "source": [
    "# Examples of Logical Operator\n",
    "a = True\n",
    "b = False\n",
    " \n",
    "# Print a and b is False\n",
    "print(a and b)\n",
    " \n",
    "# Print a or b is True\n",
    "print(a or b)\n",
    " \n",
    "# Print not a is False\n",
    "print(not a)"
   ]
  },
  {
   "cell_type": "markdown",
   "id": "f31c5395",
   "metadata": {},
   "source": [
    "# 3. Make a list of each Boolean operator's truth tables (i.e. every possible combination of Boolean values for the operator and what it evaluate ).\n",
    "\n",
    "\n",
    "                                               0: False    \n",
    "                                               1: True\n",
    "                                               \n",
    "                                               \n",
    "* Truth Table of \"and\" operator:   \n",
    "\n",
    "                                  A       B       \"and\" of A and B\n",
    "                                  0       0               0\n",
    "                                  0       1               0\n",
    "                                  1       0               0\n",
    "                                  1       1               1\n",
    "\n",
    "\n",
    "\n",
    "* Truth Table of \"or\" operator:\n",
    "\n",
    "                                  A       B       \"or\" of A and B\n",
    "                                  0       0               0\n",
    "                                  0       1               1\n",
    "                                  1       0               1\n",
    "                                  1       1               1\n",
    "\n",
    "\n",
    "\n",
    "* Truth Table of \"not\" operator:(single input)\n",
    "\n",
    "                                  A                 \"not\" of A \n",
    "                                  0                      1\n",
    "                                  0                      1\n",
    "                                  1                      0\n",
    "                                  1                      0\n",
    "\n",
    "     \n",
    "                 "
   ]
  },
  {
   "cell_type": "markdown",
   "id": "143883c3",
   "metadata": {},
   "source": [
    "# 4. What are the values of the following expressions?\n",
    "* (5 > 4) and (3 == 5)\n",
    "* not (5 > 4)\n",
    "* (5 > 4) or (3 == 5)\n",
    "* not ((5 > 4) or (3 == 5))\n",
    "* (True and True) and (True == False)\n",
    "* (not False) or (not True)"
   ]
  },
  {
   "cell_type": "code",
   "execution_count": 63,
   "id": "65c9eee7",
   "metadata": {},
   "outputs": [
    {
     "data": {
      "text/plain": [
       "False"
      ]
     },
     "execution_count": 63,
     "metadata": {},
     "output_type": "execute_result"
    }
   ],
   "source": [
    "(5 > 4) and (3 == 5)   "
   ]
  },
  {
   "cell_type": "markdown",
   "id": "86f57d65",
   "metadata": {},
   "source": [
    "(5 > 4) this is true.\n",
    "(3 == 5) this is false.\n",
    "\"and\" operator gives true when all the conditions are true. If anyone of them goes false, it will return false."
   ]
  },
  {
   "cell_type": "code",
   "execution_count": 64,
   "id": "2feaa216",
   "metadata": {},
   "outputs": [
    {
     "data": {
      "text/plain": [
       "False"
      ]
     },
     "execution_count": 64,
     "metadata": {},
     "output_type": "execute_result"
    }
   ],
   "source": [
    "not (5 > 4)     "
   ]
  },
  {
   "cell_type": "markdown",
   "id": "5aa227a8",
   "metadata": {},
   "source": [
    "In the above expression, not operator returns the opposite of the output of the expression it is applied on. \n",
    "Here, (5 > 4) gives True. not operator makes it False.  "
   ]
  },
  {
   "cell_type": "code",
   "execution_count": 65,
   "id": "d0cf9d79",
   "metadata": {},
   "outputs": [
    {
     "data": {
      "text/plain": [
       "True"
      ]
     },
     "execution_count": 65,
     "metadata": {},
     "output_type": "execute_result"
    }
   ],
   "source": [
    "(5 > 4) or (3 == 5)"
   ]
  },
  {
   "cell_type": "markdown",
   "id": "b7a00be5",
   "metadata": {},
   "source": [
    "(5 > 4) this is true.\n",
    "(3 == 5) this is false.\n",
    "\"or\" operator gives true when anyone of the conditions are true. If none of them goes true, it will return false."
   ]
  },
  {
   "cell_type": "code",
   "execution_count": 66,
   "id": "5c4a65f9",
   "metadata": {},
   "outputs": [
    {
     "data": {
      "text/plain": [
       "False"
      ]
     },
     "execution_count": 66,
     "metadata": {},
     "output_type": "execute_result"
    }
   ],
   "source": [
    "not ((5 > 4) or (3 == 5))"
   ]
  },
  {
   "cell_type": "markdown",
   "id": "7e8d94f7",
   "metadata": {},
   "source": [
    "In the above expression, not operator returns the opposite of the output of the expression it is applied on.\n",
    "Here, ((5 > 4) or (3 == 5)) gives True. \"not\" operator makes it False. "
   ]
  },
  {
   "cell_type": "code",
   "execution_count": 67,
   "id": "17d9041c",
   "metadata": {},
   "outputs": [
    {
     "data": {
      "text/plain": [
       "False"
      ]
     },
     "execution_count": 67,
     "metadata": {},
     "output_type": "execute_result"
    }
   ],
   "source": [
    "(True and True) and (True == False)"
   ]
  },
  {
   "cell_type": "code",
   "execution_count": 68,
   "id": "8fe8f564",
   "metadata": {},
   "outputs": [
    {
     "data": {
      "text/plain": [
       "True"
      ]
     },
     "execution_count": 68,
     "metadata": {},
     "output_type": "execute_result"
    }
   ],
   "source": [
    "(not False) or (not True)"
   ]
  },
  {
   "cell_type": "markdown",
   "id": "d75c31e5",
   "metadata": {},
   "source": [
    "# 5. What are the six comparison operators?\n",
    "    Comparison/Relational Operators:\n",
    "    Greater than, less than, equal equal to, not equal to, greater than equal to, less than equal to, \n",
    "    Output of the  expressions comprises of the comparision operators is boolean value i.e. True, False"
   ]
  },
  {
   "cell_type": "code",
   "execution_count": 70,
   "id": "598c2414",
   "metadata": {},
   "outputs": [
    {
     "name": "stdout",
     "output_type": "stream",
     "text": [
      "enter any integer value for a: 8\n",
      "enter any integer value for b: 1\n",
      "True\n",
      "False\n",
      "False\n",
      "True\n",
      "True\n",
      "False\n"
     ]
    }
   ],
   "source": [
    "# Examples of Relational Operators\n",
    "a = int(input(\"enter any integer value for a: \"))\n",
    "b = int(input(\"enter any integer value for b: \"))\n",
    " \n",
    "# greater than: True when left side element is greater than right side element\n",
    "print(a > b)\n",
    " \n",
    "# less than: True when left side element is less than right side element\n",
    "print(a < b)\n",
    " \n",
    "# equal equal to: : True when left side element is equal to right side element\n",
    "print(a == b)\n",
    " \n",
    "# not equal to: True when left side element is not equal to right side element\n",
    "print(a != b)\n",
    " \n",
    "# greater than equal to: True when left side element is greater than and equal to right side element\n",
    "print(a >= b)\n",
    " \n",
    "# less than equal to: True when left side element is less than and equal to right side element\n",
    "print(a <= b)"
   ]
  },
  {
   "cell_type": "markdown",
   "id": "ec9ad855",
   "metadata": {},
   "source": [
    "# 6. How do you tell the difference between the equal to and assignment operators?Describe a condition and when you would use one.\n",
    "\n",
    "Equal to \"=\" assign value of right side of expression to left side operand. It performs a funstion of assignment operator."
   ]
  },
  {
   "cell_type": "code",
   "execution_count": 71,
   "id": "31281ede",
   "metadata": {},
   "outputs": [
    {
     "data": {
      "text/plain": [
       "10"
      ]
     },
     "execution_count": 71,
     "metadata": {},
     "output_type": "execute_result"
    }
   ],
   "source": [
    "a = 10    # \"=\" assigns/stores the value 10 in the main memory at the location named \"a\".\n",
    "a"
   ]
  },
  {
   "cell_type": "markdown",
   "id": "e5598e8e",
   "metadata": {},
   "source": [
    "The '==' operator checks whether the two given operands are equal or not. If so, it returns true. Otherwise it returns false."
   ]
  },
  {
   "cell_type": "code",
   "execution_count": 72,
   "id": "d8865ad7",
   "metadata": {},
   "outputs": [
    {
     "data": {
      "text/plain": [
       "True"
      ]
     },
     "execution_count": 72,
     "metadata": {},
     "output_type": "execute_result"
    }
   ],
   "source": [
    "a == 10   # \"==\" checks the value stored in \"a\" is equal to 10 or not "
   ]
  },
  {
   "cell_type": "code",
   "execution_count": 73,
   "id": "9f40184d",
   "metadata": {},
   "outputs": [
    {
     "data": {
      "text/plain": [
       "False"
      ]
     },
     "execution_count": 73,
     "metadata": {},
     "output_type": "execute_result"
    }
   ],
   "source": [
    "a == 6"
   ]
  },
  {
   "cell_type": "markdown",
   "id": "2ab7c355",
   "metadata": {},
   "source": [
    "# 7. Identify the three blocks in this code:\n",
    "* spam = 0\n",
    "* if spam == 10:\n",
    "* print('eggs')\n",
    "* if spam > 5:\n",
    "* print('bacon')\n",
    "* else:\n",
    "* print('ham')\n",
    "* print('spam')\n",
    "* print('spam')"
   ]
  },
  {
   "cell_type": "code",
   "execution_count": 74,
   "id": "e19d47f6",
   "metadata": {},
   "outputs": [
    {
     "name": "stdout",
     "output_type": "stream",
     "text": [
      "ham\n",
      "spam\n",
      "spam\n"
     ]
    }
   ],
   "source": [
    "spam = 0\n",
    "if spam == 10:\n",
    "    print('eggs')\n",
    "    if spam > 5:\n",
    "        print('bacon')\n",
    "else:\n",
    "    print('ham')\n",
    "    print('spam')\n",
    "    print('spam')\n"
   ]
  },
  {
   "cell_type": "markdown",
   "id": "d37141c4",
   "metadata": {},
   "source": [
    "# 8. Write code that prints Hello if 1 is stored in spam, prints Howdy if 2 is stored in spam, and prints Greetings! if anything else is stored in spam.\n"
   ]
  },
  {
   "cell_type": "code",
   "execution_count": 78,
   "id": "c1b6c8a0",
   "metadata": {},
   "outputs": [
    {
     "name": "stdout",
     "output_type": "stream",
     "text": [
      "enter an integer: 5\n",
      "Greetings\n"
     ]
    }
   ],
   "source": [
    "spam = int(input(\"enter an integer: \"))\n",
    "if spam == 1:\n",
    "    print(\"Hello\")\n",
    "if spam == 2:\n",
    "    print(\"Howdy\")\n",
    "elif (spam != 1 and spam != 2):\n",
    "    print(\"Greetings\")"
   ]
  },
  {
   "cell_type": "markdown",
   "id": "57fcaf93",
   "metadata": {},
   "source": [
    "# 9. If your programme is stuck in an endless loop, what keys you’ll press?\n",
    "\n",
    "   An infinite loop is a loop that runs indefinitely and it only stops with external intervention or when a break statement is found. You can stop an infinite loop with CTRL + C ."
   ]
  },
  {
   "cell_type": "markdown",
   "id": "4831de79",
   "metadata": {},
   "source": [
    "# 10. How can you tell the difference between break and continue?\n",
    "\n",
    "In Python, break and continue statements can alter the flow of a normal loop.\n",
    "\n",
    "* 'Break' in Python is a loop control statement. It is used to control the sequence of the loop. Suppose you want to terminate a loop and skip to the next code after the loop; break will help you do that. A typical scenario of using the Break in Python is when an external condition triggers the loop's termination.\n",
    "\n",
    "* Continue is also a loop control statement just like the break statement. continue statement is opposite to that of break statement, instead of terminating the loop, it forces to execute the next iteration of the loop. As the name suggest the continue statement forces the loop to continue or execute the next iteration"
   ]
  },
  {
   "cell_type": "code",
   "execution_count": 79,
   "id": "d74efdf6",
   "metadata": {},
   "outputs": [
    {
     "name": "stdout",
     "output_type": "stream",
     "text": [
      "F\n",
      "u\n",
      "l\n",
      "l\n",
      " \n",
      "S\n"
     ]
    }
   ],
   "source": [
    "s = \"Full Stack Data Science\"\n",
    "for i in s :\n",
    "    if i == \"t\":   # when it is true then break will execute\n",
    "        break      # break the if loop\n",
    "    print(i)\n",
    "else :\n",
    "    \n",
    "    if i == 'u':\n",
    "        print(\"last char was u \")\n",
    "    print(\"this is a else condtion \")    # if you are breaking a for loop in between then else is not going to run\n",
    "    "
   ]
  },
  {
   "cell_type": "code",
   "execution_count": 87,
   "id": "b46105c3",
   "metadata": {},
   "outputs": [
    {
     "name": "stdout",
     "output_type": "stream",
     "text": [
      "F\n",
      "u\n",
      "l\n",
      "l\n",
      " \n",
      "S\n",
      "a\n",
      "c\n",
      "k\n",
      " \n",
      "D\n",
      "a\n",
      "a\n",
      " \n",
      "S\n",
      "c\n",
      "i\n",
      "e\n",
      "n\n",
      "c\n",
      "e\n",
      "this is a else condtion \n"
     ]
    }
   ],
   "source": [
    "for i in s :\n",
    "    if i == \"t\":\n",
    "        continue # continue will give control back to for loop \n",
    "    print(i)    \n",
    "else :\n",
    "    if i == 'u':\n",
    "        print(\"last char was u \")\n",
    "    print(\"this is a else condtion \")       # else is executed as for has completed its iteration to last word "
   ]
  },
  {
   "cell_type": "markdown",
   "id": "a91edf89",
   "metadata": {},
   "source": [
    "# 11. In a for loop, what is the difference between range(10), range(0, 10), and range(0, 10, 1)?"
   ]
  },
  {
   "cell_type": "code",
   "execution_count": 81,
   "id": "dbb4d3d8",
   "metadata": {},
   "outputs": [
    {
     "name": "stdout",
     "output_type": "stream",
     "text": [
      "0\n",
      "1\n",
      "2\n",
      "3\n",
      "4\n",
      "5\n",
      "6\n",
      "7\n",
      "8\n",
      "9\n"
     ]
    }
   ],
   "source": [
    "for i in range(10):\n",
    "    print(i)"
   ]
  },
  {
   "cell_type": "code",
   "execution_count": 82,
   "id": "6baea257",
   "metadata": {},
   "outputs": [
    {
     "name": "stdout",
     "output_type": "stream",
     "text": [
      "0\n",
      "1\n",
      "2\n",
      "3\n",
      "4\n",
      "5\n",
      "6\n",
      "7\n",
      "8\n",
      "9\n"
     ]
    }
   ],
   "source": [
    "for i in range(0,10):\n",
    "    print(i)"
   ]
  },
  {
   "cell_type": "code",
   "execution_count": 83,
   "id": "ddc34f48",
   "metadata": {},
   "outputs": [
    {
     "name": "stdout",
     "output_type": "stream",
     "text": [
      "0\n",
      "1\n",
      "2\n",
      "3\n",
      "4\n",
      "5\n",
      "6\n",
      "7\n",
      "8\n",
      "9\n"
     ]
    }
   ],
   "source": [
    "for i in range(0, 10, 1):\n",
    "    print(i)"
   ]
  },
  {
   "cell_type": "markdown",
   "id": "0b46f1b6",
   "metadata": {},
   "source": [
    "In a for loop, range(10), range(0, 10), and range(0, 10, 1) give same output. However the difference between them is given below:\n",
    "* range(10): By default, it consider the [0] indexed element as the first iteration for \"for loop.\n",
    "* range(0, 10): In this expression, the initial element of the range has been defined as the element at index \"0\". \n",
    "* range(0, 10, 1): Here, step size is also considered. By default 1 is the step size in range function. Therefore, the jump is 1 element."
   ]
  },
  {
   "cell_type": "markdown",
   "id": "3184b33b",
   "metadata": {},
   "source": [
    "# 12. Write a short program that prints the numbers 1 to 10 using a for loop. Then write an equivalent program that prints the numbers 1 to 10 using a while loop."
   ]
  },
  {
   "cell_type": "code",
   "execution_count": 88,
   "id": "c48f2e52",
   "metadata": {},
   "outputs": [
    {
     "name": "stdout",
     "output_type": "stream",
     "text": [
      "1\n",
      "2\n",
      "3\n",
      "4\n",
      "5\n",
      "6\n",
      "7\n",
      "8\n",
      "9\n",
      "10\n"
     ]
    }
   ],
   "source": [
    "for i in range (1, 11):\n",
    "    print(i)"
   ]
  },
  {
   "cell_type": "code",
   "execution_count": 85,
   "id": "75132e49",
   "metadata": {},
   "outputs": [
    {
     "name": "stdout",
     "output_type": "stream",
     "text": [
      "1\n",
      "2\n",
      "3\n",
      "4\n",
      "5\n",
      "6\n",
      "7\n",
      "8\n",
      "9\n",
      "10\n"
     ]
    }
   ],
   "source": [
    "i = 1\n",
    "while i <= 10:\n",
    "    print(i)\n",
    "    i += 1"
   ]
  },
  {
   "cell_type": "markdown",
   "id": "ffd948c8",
   "metadata": {},
   "source": [
    "# 13. If you had a function named bacon() inside a module named spam, how would you call it after importing spam?"
   ]
  },
  {
   "cell_type": "code",
   "execution_count": 86,
   "id": "0d1e3614",
   "metadata": {},
   "outputs": [
    {
     "ename": "ModuleNotFoundError",
     "evalue": "No module named 'spam'",
     "output_type": "error",
     "traceback": [
      "\u001b[1;31m---------------------------------------------------------------------------\u001b[0m",
      "\u001b[1;31mModuleNotFoundError\u001b[0m                       Traceback (most recent call last)",
      "\u001b[1;32m~\\AppData\\Local\\Temp/ipykernel_6520/1946200154.py\u001b[0m in \u001b[0;36m<module>\u001b[1;34m\u001b[0m\n\u001b[1;32m----> 1\u001b[1;33m \u001b[1;32mimport\u001b[0m \u001b[0mspam\u001b[0m    \u001b[1;31m# we need to put this command,`import` keyword along with the name of the module you want to import\u001b[0m\u001b[1;33m\u001b[0m\u001b[1;33m\u001b[0m\u001b[0m\n\u001b[0m\u001b[0;32m      2\u001b[0m \u001b[0mspam\u001b[0m\u001b[1;33m.\u001b[0m\u001b[0mbacon\u001b[0m\u001b[1;33m(\u001b[0m\u001b[1;33m)\u001b[0m   \u001b[1;31m# Use dot operator to access bacon() inside module \"spam\"\u001b[0m\u001b[1;33m\u001b[0m\u001b[1;33m\u001b[0m\u001b[0m\n",
      "\u001b[1;31mModuleNotFoundError\u001b[0m: No module named 'spam'"
     ]
    }
   ],
   "source": [
    "import spam    # we need to put this command,`import` keyword along with the name of the module you want to import\n",
    "spam.bacon()   # Use dot operator to access bacon() inside module \"spam\""
   ]
  },
  {
   "cell_type": "code",
   "execution_count": null,
   "id": "f5af66f8",
   "metadata": {},
   "outputs": [],
   "source": []
  }
 ],
 "metadata": {
  "kernelspec": {
   "display_name": "Python 3 (ipykernel)",
   "language": "python",
   "name": "python3"
  },
  "language_info": {
   "codemirror_mode": {
    "name": "ipython",
    "version": 3
   },
   "file_extension": ".py",
   "mimetype": "text/x-python",
   "name": "python",
   "nbconvert_exporter": "python",
   "pygments_lexer": "ipython3",
   "version": "3.9.7"
  }
 },
 "nbformat": 4,
 "nbformat_minor": 5
}
